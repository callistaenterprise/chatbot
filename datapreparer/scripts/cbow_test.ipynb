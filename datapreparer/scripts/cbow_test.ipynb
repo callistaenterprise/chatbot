{
 "cells": [
  {
   "cell_type": "code",
   "execution_count": 13,
   "metadata": {},
   "outputs": [],
   "source": [
    "import re\n",
    "import numpy as np\n",
    "from random import randint\n",
    "import nltk\n",
    "from sklearn.utils import shuffle\n",
    "from sklearn.preprocessing import MinMaxScaler\n",
    "import tensorflow as tf\n",
    "from tensorflow import keras\n",
    "from tensorflow.keras.models import Sequential\n",
    "from tensorflow.keras.layers import Activation, Dense\n",
    "from tensorflow.keras.optimizers import Adam\n",
    "from tensorflow.keras.metrics import categorical_crossentropy"
   ]
  },
  {
   "cell_type": "code",
   "execution_count": 14,
   "metadata": {},
   "outputs": [],
   "source": [
    "def data_preparation_1(in_file):\n",
    "    with open(in_file, 'r', encoding='utf-8', errors='ignore') as in_file_read:\n",
    "        for line in in_file_read:\n",
    "            # remove the line/conversation codes at start of each line\n",
    "            yield re.sub('^L[0-9]+\\s[+$]+\\s[a-z0-9]+\\s[+$]+\\s[a-z0-9]+\\s[+$]+\\s[A-Z]+\\s[+$]+\\s', '', line)\n",
    "\n",
    "def data_cleaner(in_file, out_file, cap_dict):\n",
    "    capitalized_words = set()\n",
    "    line_generator = data_preparation_1(in_file)\n",
    "    with open(out_file, 'w') as out_file_write:\n",
    "        for line in line_generator:\n",
    "            capitalized_words.update(re.findall('([A-Z][a-z]+)', line))\n",
    "            new_line = line.lower()\n",
    "            new_line = re.sub('\\'m', ' am', new_line)\n",
    "            new_line = re.sub('`m', ' am', new_line)\n",
    "            new_line = re.sub('let\\'s', 'let us', new_line)\n",
    "            new_line = re.sub('let`s', 'let us', new_line)\n",
    "            new_line = re.sub('\\'s', ' is', new_line)\n",
    "            new_line = re.sub('`s', ' is', new_line)\n",
    "            new_line = re.sub('\\'ll', ' will', new_line)\n",
    "            new_line = re.sub('`ll', ' will', new_line)\n",
    "            new_line = re.sub('\\'ve', ' have', new_line)\n",
    "            new_line = re.sub('`ve', ' have', new_line)\n",
    "            new_line = re.sub('\\'re', ' are', new_line)\n",
    "            new_line = re.sub('`re', ' are', new_line)\n",
    "            new_line = re.sub('\\'d', ' would', new_line)\n",
    "            new_line = re.sub('`d', ' would', new_line)\n",
    "            new_line = re.sub('won\\'t', 'will not', new_line)\n",
    "            new_line = re.sub('won`t', 'will not', new_line)\n",
    "            new_line = re.sub('wouldn\\'t', 'would not', new_line)\n",
    "            new_line = re.sub('wouldn`t', 'would not', new_line)\n",
    "            new_line = re.sub('don\\'t', 'do not', new_line)\n",
    "            new_line = re.sub('don`t', 'do not', new_line)\n",
    "            new_line = re.sub('can\\'t', 'cannot', new_line)\n",
    "            new_line = re.sub('can`t', 'cannot', new_line)\n",
    "            new_line = re.sub(' +', ' ', new_line)\n",
    "            new_line = re.sub('[-+]?[0-9]+[,0-9]*(\\.[0-9]+)?', 'number', new_line)\n",
    "            new_line = re.sub('[()\"#@/;:<>{}+=~§|.!?,\\[\\]]', '', new_line)\n",
    "            out_file_write.write(new_line)\n",
    "    with open(cap_dict, 'w') as cap_dict_write:\n",
    "        for capitalized_word in capitalized_words:\n",
    "            cap_dict_write.write(\"%s\\n\" % capitalized_word)"
   ]
  },
  {
   "cell_type": "code",
   "execution_count": 12,
   "metadata": {},
   "outputs": [],
   "source": [
    "data_cleaner_new('data/testfile.txt', 'data/out.txt', 'data/capitalized_words.txt')\n",
    "#data_cleaner('movie_lines.txt', 'out.txt')"
   ]
  },
  {
   "cell_type": "code",
   "execution_count": 4,
   "metadata": {},
   "outputs": [
    {
     "name": "stdout",
     "output_type": "stream",
     "text": [
      "(1, 308310)\n",
      "(1, 308310)\n"
     ]
    }
   ],
   "source": [
    "#Use nltk whitespace tokenizer to generate word tokens from version on text only containing lower case words (no special characters, etc.)"
   ]
  },
  {
   "cell_type": "code",
   "execution_count": null,
   "metadata": {},
   "outputs": [],
   "source": []
  }
 ],
 "metadata": {
  "kernelspec": {
   "display_name": "Python 3",
   "language": "python",
   "name": "python3"
  },
  "language_info": {
   "codemirror_mode": {
    "name": "ipython",
    "version": 3
   },
   "file_extension": ".py",
   "mimetype": "text/x-python",
   "name": "python",
   "nbconvert_exporter": "python",
   "pygments_lexer": "ipython3",
   "version": "3.7.7"
  }
 },
 "nbformat": 4,
 "nbformat_minor": 4
}
